{
  "nbformat": 4,
  "nbformat_minor": 0,
  "metadata": {
    "colab": {
      "provenance": [],
      "include_colab_link": true
    },
    "kernelspec": {
      "name": "python3",
      "display_name": "Python 3"
    },
    "widgets": {
      "application/vnd.jupyter.widget-state+json": {
        "9b908cd2a69346e8bc2fb3e7830f012a": {
          "model_module": "@jupyter-widgets/controls",
          "model_name": "VBoxModel",
          "model_module_version": "1.5.0",
          "state": {
            "_dom_classes": [
              "widget-interact"
            ],
            "_model_module": "@jupyter-widgets/controls",
            "_model_module_version": "1.5.0",
            "_model_name": "VBoxModel",
            "_view_count": null,
            "_view_module": "@jupyter-widgets/controls",
            "_view_module_version": "1.5.0",
            "_view_name": "VBoxView",
            "box_style": "",
            "children": [
              "IPY_MODEL_67302dd4ae0f4b21bec5ada14a938492",
              "IPY_MODEL_7e5c5f5046454b3c858a2ba2712fd3c1"
            ],
            "layout": "IPY_MODEL_fc1912f968614233897367dd4843717f"
          }
        },
        "67302dd4ae0f4b21bec5ada14a938492": {
          "model_module": "@jupyter-widgets/controls",
          "model_name": "ToggleButtonsModel",
          "model_module_version": "1.5.0",
          "state": {
            "_dom_classes": [],
            "_model_module": "@jupyter-widgets/controls",
            "_model_module_version": "1.5.0",
            "_model_name": "ToggleButtonsModel",
            "_options_labels": [
              "Pipeline Plot",
              "Hyperparameters",
              "AUC",
              "Confusion Matrix",
              "Threshold",
              "Precision Recall",
              "Prediction Error",
              "Class Report",
              "Feature Selection",
              "Learning Curve",
              "Manifold Learning",
              "Calibration Curve",
              "Validation Curve",
              "Dimensions",
              "Feature Importance",
              "Feature Importance (All)",
              "Decision Boundary",
              "Lift Chart",
              "Gain Chart",
              "Decision Tree",
              "KS Statistic Plot"
            ],
            "_view_count": null,
            "_view_module": "@jupyter-widgets/controls",
            "_view_module_version": "1.5.0",
            "_view_name": "ToggleButtonsView",
            "button_style": "",
            "description": "Plot Type:",
            "description_tooltip": null,
            "disabled": false,
            "icons": [
              ""
            ],
            "index": 0,
            "layout": "IPY_MODEL_96698aecc5164b2e89a6d87517736422",
            "style": "IPY_MODEL_5239f059973646d79b426ca8b63d25ab",
            "tooltips": []
          }
        },
        "7e5c5f5046454b3c858a2ba2712fd3c1": {
          "model_module": "@jupyter-widgets/output",
          "model_name": "OutputModel",
          "model_module_version": "1.0.0",
          "state": {
            "_dom_classes": [],
            "_model_module": "@jupyter-widgets/output",
            "_model_module_version": "1.0.0",
            "_model_name": "OutputModel",
            "_view_count": null,
            "_view_module": "@jupyter-widgets/output",
            "_view_module_version": "1.0.0",
            "_view_name": "OutputView",
            "layout": "IPY_MODEL_982e90ea750d40498a92a5c1ec1f46d8",
            "msg_id": "",
            "outputs": [
              {
                "output_type": "display_data",
                "data": {
                  "text/plain": "<Figure size 2200x600 with 1 Axes>",
                  "image/png": "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\n"
                },
                "metadata": {}
              }
            ]
          }
        },
        "fc1912f968614233897367dd4843717f": {
          "model_module": "@jupyter-widgets/base",
          "model_name": "LayoutModel",
          "model_module_version": "1.2.0",
          "state": {
            "_model_module": "@jupyter-widgets/base",
            "_model_module_version": "1.2.0",
            "_model_name": "LayoutModel",
            "_view_count": null,
            "_view_module": "@jupyter-widgets/base",
            "_view_module_version": "1.2.0",
            "_view_name": "LayoutView",
            "align_content": null,
            "align_items": null,
            "align_self": null,
            "border": null,
            "bottom": null,
            "display": null,
            "flex": null,
            "flex_flow": null,
            "grid_area": null,
            "grid_auto_columns": null,
            "grid_auto_flow": null,
            "grid_auto_rows": null,
            "grid_column": null,
            "grid_gap": null,
            "grid_row": null,
            "grid_template_areas": null,
            "grid_template_columns": null,
            "grid_template_rows": null,
            "height": null,
            "justify_content": null,
            "justify_items": null,
            "left": null,
            "margin": null,
            "max_height": null,
            "max_width": null,
            "min_height": null,
            "min_width": null,
            "object_fit": null,
            "object_position": null,
            "order": null,
            "overflow": null,
            "overflow_x": null,
            "overflow_y": null,
            "padding": null,
            "right": null,
            "top": null,
            "visibility": null,
            "width": null
          }
        },
        "96698aecc5164b2e89a6d87517736422": {
          "model_module": "@jupyter-widgets/base",
          "model_name": "LayoutModel",
          "model_module_version": "1.2.0",
          "state": {
            "_model_module": "@jupyter-widgets/base",
            "_model_module_version": "1.2.0",
            "_model_name": "LayoutModel",
            "_view_count": null,
            "_view_module": "@jupyter-widgets/base",
            "_view_module_version": "1.2.0",
            "_view_name": "LayoutView",
            "align_content": null,
            "align_items": null,
            "align_self": null,
            "border": null,
            "bottom": null,
            "display": null,
            "flex": null,
            "flex_flow": null,
            "grid_area": null,
            "grid_auto_columns": null,
            "grid_auto_flow": null,
            "grid_auto_rows": null,
            "grid_column": null,
            "grid_gap": null,
            "grid_row": null,
            "grid_template_areas": null,
            "grid_template_columns": null,
            "grid_template_rows": null,
            "height": null,
            "justify_content": null,
            "justify_items": null,
            "left": null,
            "margin": null,
            "max_height": null,
            "max_width": null,
            "min_height": null,
            "min_width": null,
            "object_fit": null,
            "object_position": null,
            "order": null,
            "overflow": null,
            "overflow_x": null,
            "overflow_y": null,
            "padding": null,
            "right": null,
            "top": null,
            "visibility": null,
            "width": null
          }
        },
        "5239f059973646d79b426ca8b63d25ab": {
          "model_module": "@jupyter-widgets/controls",
          "model_name": "ToggleButtonsStyleModel",
          "model_module_version": "1.5.0",
          "state": {
            "_model_module": "@jupyter-widgets/controls",
            "_model_module_version": "1.5.0",
            "_model_name": "ToggleButtonsStyleModel",
            "_view_count": null,
            "_view_module": "@jupyter-widgets/base",
            "_view_module_version": "1.2.0",
            "_view_name": "StyleView",
            "button_width": "",
            "description_width": "",
            "font_weight": ""
          }
        },
        "982e90ea750d40498a92a5c1ec1f46d8": {
          "model_module": "@jupyter-widgets/base",
          "model_name": "LayoutModel",
          "model_module_version": "1.2.0",
          "state": {
            "_model_module": "@jupyter-widgets/base",
            "_model_module_version": "1.2.0",
            "_model_name": "LayoutModel",
            "_view_count": null,
            "_view_module": "@jupyter-widgets/base",
            "_view_module_version": "1.2.0",
            "_view_name": "LayoutView",
            "align_content": null,
            "align_items": null,
            "align_self": null,
            "border": null,
            "bottom": null,
            "display": null,
            "flex": null,
            "flex_flow": null,
            "grid_area": null,
            "grid_auto_columns": null,
            "grid_auto_flow": null,
            "grid_auto_rows": null,
            "grid_column": null,
            "grid_gap": null,
            "grid_row": null,
            "grid_template_areas": null,
            "grid_template_columns": null,
            "grid_template_rows": null,
            "height": null,
            "justify_content": null,
            "justify_items": null,
            "left": null,
            "margin": null,
            "max_height": null,
            "max_width": null,
            "min_height": null,
            "min_width": null,
            "object_fit": null,
            "object_position": null,
            "order": null,
            "overflow": null,
            "overflow_x": null,
            "overflow_y": null,
            "padding": null,
            "right": null,
            "top": null,
            "visibility": null,
            "width": null
          }
        }
      }
    }
  },
  "cells": [
    {
      "cell_type": "markdown",
      "metadata": {
        "id": "view-in-github",
        "colab_type": "text"
      },
      "source": [
        "<a href=\"https://colab.research.google.com/github/stavkol/Phishing/blob/main/DGA_Classification.ipynb\" target=\"_parent\"><img src=\"https://colab.research.google.com/assets/colab-badge.svg\" alt=\"Open In Colab\"/></a>"
      ]
    },
    {
      "cell_type": "code",
      "metadata": {
        "id": "2rvGqQdY9C6s",
        "outputId": "c8186b8d-c3e3-4df7-95b5-9053fd0f6daa",
        "colab": {
          "base_uri": "https://localhost:8080/"
        }
      },
      "source": [
        "#εγκατάσταση πακέτου pycaret (https://pycaret.org/)\n",
        "!pip install pycaret\n",
        "#***ΠΡΟΣΟΧΗ*** μετά την εγκατάσταση χρειάζεται restart το session\n",
        "#***θα σας ζητηθεί επανεκκίνηση με σχετικό κόκκινο μήνυμα μετά την ολοκλήρωση της εγκατάστασης\n",
        "#***Πατήστε το κουμπί RESTART SESSION στο σχετικό μήνυμα"
      ],
      "execution_count": 2,
      "outputs": [
        {
          "output_type": "stream",
          "name": "stdout",
          "text": [
            "Collecting pycaret\n",
            "  Downloading pycaret-3.3.2-py3-none-any.whl (486 kB)\n",
            "\u001b[2K     \u001b[90m━━━━━━━━━━━━━━━━━━━━━━━━━━━━━━━━━━━━━━━━\u001b[0m \u001b[32m486.1/486.1 kB\u001b[0m \u001b[31m6.3 MB/s\u001b[0m eta \u001b[36m0:00:00\u001b[0m\n",
            "\u001b[?25hRequirement already satisfied: ipython>=5.5.0 in /usr/local/lib/python3.10/dist-packages (from pycaret) (7.34.0)\n",
            "Requirement already satisfied: ipywidgets>=7.6.5 in /usr/local/lib/python3.10/dist-packages (from pycaret) (7.7.1)\n",
            "Requirement already satisfied: tqdm>=4.62.0 in /usr/local/lib/python3.10/dist-packages (from pycaret) (4.66.4)\n",
            "Requirement already satisfied: numpy<1.27,>=1.21 in /usr/local/lib/python3.10/dist-packages (from pycaret) (1.25.2)\n",
            "Requirement already satisfied: pandas<2.2.0 in /usr/local/lib/python3.10/dist-packages (from pycaret) (2.0.3)\n",
            "Requirement already satisfied: jinja2>=3 in /usr/local/lib/python3.10/dist-packages (from pycaret) (3.1.4)\n",
            "Requirement already satisfied: scipy<=1.11.4,>=1.6.1 in /usr/local/lib/python3.10/dist-packages (from pycaret) (1.11.4)\n",
            "Collecting joblib<1.4,>=1.2.0 (from pycaret)\n",
            "  Downloading joblib-1.3.2-py3-none-any.whl (302 kB)\n",
            "\u001b[2K     \u001b[90m━━━━━━━━━━━━━━━━━━━━━━━━━━━━━━━━━━━━━━━━\u001b[0m \u001b[32m302.2/302.2 kB\u001b[0m \u001b[31m32.9 MB/s\u001b[0m eta \u001b[36m0:00:00\u001b[0m\n",
            "\u001b[?25hCollecting scikit-learn>1.4.0 (from pycaret)\n",
            "  Downloading scikit_learn-1.5.1-cp310-cp310-manylinux_2_17_x86_64.manylinux2014_x86_64.whl (13.4 MB)\n",
            "\u001b[2K     \u001b[90m━━━━━━━━━━━━━━━━━━━━━━━━━━━━━━━━━━━━━━━━\u001b[0m \u001b[32m13.4/13.4 MB\u001b[0m \u001b[31m64.9 MB/s\u001b[0m eta \u001b[36m0:00:00\u001b[0m\n",
            "\u001b[?25hCollecting pyod>=1.1.3 (from pycaret)\n",
            "  Downloading pyod-2.0.1.tar.gz (163 kB)\n",
            "\u001b[2K     \u001b[90m━━━━━━━━━━━━━━━━━━━━━━━━━━━━━━━━━━━━━━━━\u001b[0m \u001b[32m163.8/163.8 kB\u001b[0m \u001b[31m20.8 MB/s\u001b[0m eta \u001b[36m0:00:00\u001b[0m\n",
            "\u001b[?25h  Preparing metadata (setup.py) ... \u001b[?25l\u001b[?25hdone\n",
            "Collecting imbalanced-learn>=0.12.0 (from pycaret)\n",
            "  Downloading imbalanced_learn-0.12.3-py3-none-any.whl (258 kB)\n",
            "\u001b[2K     \u001b[90m━━━━━━━━━━━━━━━━━━━━━━━━━━━━━━━━━━━━━━━━\u001b[0m \u001b[32m258.3/258.3 kB\u001b[0m \u001b[31m29.1 MB/s\u001b[0m eta \u001b[36m0:00:00\u001b[0m\n",
            "\u001b[?25hCollecting category-encoders>=2.4.0 (from pycaret)\n",
            "  Downloading category_encoders-2.6.3-py2.py3-none-any.whl (81 kB)\n",
            "\u001b[2K     \u001b[90m━━━━━━━━━━━━━━━━━━━━━━━━━━━━━━━━━━━━━━━━\u001b[0m \u001b[32m81.9/81.9 kB\u001b[0m \u001b[31m9.3 MB/s\u001b[0m eta \u001b[36m0:00:00\u001b[0m\n",
            "\u001b[?25hRequirement already satisfied: lightgbm>=3.0.0 in /usr/local/lib/python3.10/dist-packages (from pycaret) (4.1.0)\n",
            "Requirement already satisfied: numba>=0.55.0 in /usr/local/lib/python3.10/dist-packages (from pycaret) (0.58.1)\n",
            "Requirement already satisfied: requests>=2.27.1 in /usr/local/lib/python3.10/dist-packages (from pycaret) (2.31.0)\n",
            "Requirement already satisfied: psutil>=5.9.0 in /usr/local/lib/python3.10/dist-packages (from pycaret) (5.9.5)\n",
            "Requirement already satisfied: markupsafe>=2.0.1 in /usr/local/lib/python3.10/dist-packages (from pycaret) (2.1.5)\n",
            "Requirement already satisfied: importlib-metadata>=4.12.0 in /usr/local/lib/python3.10/dist-packages (from pycaret) (8.0.0)\n",
            "Requirement already satisfied: nbformat>=4.2.0 in /usr/local/lib/python3.10/dist-packages (from pycaret) (5.10.4)\n",
            "Requirement already satisfied: cloudpickle in /usr/local/lib/python3.10/dist-packages (from pycaret) (2.2.1)\n",
            "Collecting deprecation>=2.1.0 (from pycaret)\n",
            "  Downloading deprecation-2.1.0-py2.py3-none-any.whl (11 kB)\n",
            "Collecting xxhash (from pycaret)\n",
            "  Downloading xxhash-3.4.1-cp310-cp310-manylinux_2_17_x86_64.manylinux2014_x86_64.whl (194 kB)\n",
            "\u001b[2K     \u001b[90m━━━━━━━━━━━━━━━━━━━━━━━━━━━━━━━━━━━━━━━━\u001b[0m \u001b[32m194.1/194.1 kB\u001b[0m \u001b[31m18.0 MB/s\u001b[0m eta \u001b[36m0:00:00\u001b[0m\n",
            "\u001b[?25hRequirement already satisfied: matplotlib<3.8.0 in /usr/local/lib/python3.10/dist-packages (from pycaret) (3.7.1)\n",
            "Collecting scikit-plot>=0.3.7 (from pycaret)\n",
            "  Downloading scikit_plot-0.3.7-py3-none-any.whl (33 kB)\n",
            "Requirement already satisfied: yellowbrick>=1.4 in /usr/local/lib/python3.10/dist-packages (from pycaret) (1.5)\n",
            "Requirement already satisfied: plotly>=5.14.0 in /usr/local/lib/python3.10/dist-packages (from pycaret) (5.15.0)\n",
            "Collecting kaleido>=0.2.1 (from pycaret)\n",
            "  Downloading kaleido-0.2.1-py2.py3-none-manylinux1_x86_64.whl (79.9 MB)\n",
            "\u001b[2K     \u001b[90m━━━━━━━━━━━━━━━━━━━━━━━━━━━━━━━━━━━━━━━━\u001b[0m \u001b[32m79.9/79.9 MB\u001b[0m \u001b[31m10.1 MB/s\u001b[0m eta \u001b[36m0:00:00\u001b[0m\n",
            "\u001b[?25hCollecting schemdraw==0.15 (from pycaret)\n",
            "  Downloading schemdraw-0.15-py3-none-any.whl (106 kB)\n",
            "\u001b[2K     \u001b[90m━━━━━━━━━━━━━━━━━━━━━━━━━━━━━━━━━━━━━━━━\u001b[0m \u001b[32m106.8/106.8 kB\u001b[0m \u001b[31m14.3 MB/s\u001b[0m eta \u001b[36m0:00:00\u001b[0m\n",
            "\u001b[?25hCollecting plotly-resampler>=0.8.3.1 (from pycaret)\n",
            "  Downloading plotly_resampler-0.10.0-py3-none-any.whl (80 kB)\n",
            "\u001b[2K     \u001b[90m━━━━━━━━━━━━━━━━━━━━━━━━━━━━━━━━━━━━━━━━\u001b[0m \u001b[32m80.7/80.7 kB\u001b[0m \u001b[31m10.2 MB/s\u001b[0m eta \u001b[36m0:00:00\u001b[0m\n",
            "\u001b[?25hRequirement already satisfied: statsmodels>=0.12.1 in /usr/local/lib/python3.10/dist-packages (from pycaret) (0.14.2)\n",
            "Collecting sktime==0.26.0 (from pycaret)\n",
            "  Downloading sktime-0.26.0-py3-none-any.whl (21.8 MB)\n",
            "\u001b[2K     \u001b[90m━━━━━━━━━━━━━━━━━━━━━━━━━━━━━━━━━━━━━━━━\u001b[0m \u001b[32m21.8/21.8 MB\u001b[0m \u001b[31m62.2 MB/s\u001b[0m eta \u001b[36m0:00:00\u001b[0m\n",
            "\u001b[?25hCollecting tbats>=1.1.3 (from pycaret)\n",
            "  Downloading tbats-1.1.3-py3-none-any.whl (44 kB)\n",
            "\u001b[2K     \u001b[90m━━━━━━━━━━━━━━━━━━━━━━━━━━━━━━━━━━━━━━━━\u001b[0m \u001b[32m44.0/44.0 kB\u001b[0m \u001b[31m6.3 MB/s\u001b[0m eta \u001b[36m0:00:00\u001b[0m\n",
            "\u001b[?25hCollecting pmdarima>=2.0.4 (from pycaret)\n",
            "  Downloading pmdarima-2.0.4-cp310-cp310-manylinux_2_17_x86_64.manylinux2014_x86_64.manylinux_2_28_x86_64.whl (2.1 MB)\n",
            "\u001b[2K     \u001b[90m━━━━━━━━━━━━━━━━━━━━━━━━━━━━━━━━━━━━━━━━\u001b[0m \u001b[32m2.1/2.1 MB\u001b[0m \u001b[31m85.0 MB/s\u001b[0m eta \u001b[36m0:00:00\u001b[0m\n",
            "\u001b[?25hCollecting wurlitzer (from pycaret)\n",
            "  Downloading wurlitzer-3.1.1-py3-none-any.whl (8.6 kB)\n",
            "Requirement already satisfied: packaging in /usr/local/lib/python3.10/dist-packages (from sktime==0.26.0->pycaret) (24.1)\n",
            "Collecting scikit-base<0.8.0 (from sktime==0.26.0->pycaret)\n",
            "  Downloading scikit_base-0.7.8-py3-none-any.whl (130 kB)\n",
            "\u001b[2K     \u001b[90m━━━━━━━━━━━━━━━━━━━━━━━━━━━━━━━━━━━━━━━━\u001b[0m \u001b[32m130.1/130.1 kB\u001b[0m \u001b[31m16.4 MB/s\u001b[0m eta \u001b[36m0:00:00\u001b[0m\n",
            "\u001b[?25hCollecting scikit-learn>1.4.0 (from pycaret)\n",
            "  Downloading scikit_learn-1.4.2-cp310-cp310-manylinux_2_17_x86_64.manylinux2014_x86_64.whl (12.1 MB)\n",
            "\u001b[2K     \u001b[90m━━━━━━━━━━━━━━━━━━━━━━━━━━━━━━━━━━━━━━━━\u001b[0m \u001b[32m12.1/12.1 MB\u001b[0m \u001b[31m92.9 MB/s\u001b[0m eta \u001b[36m0:00:00\u001b[0m\n",
            "\u001b[?25hRequirement already satisfied: patsy>=0.5.1 in /usr/local/lib/python3.10/dist-packages (from category-encoders>=2.4.0->pycaret) (0.5.6)\n",
            "Requirement already satisfied: threadpoolctl>=2.0.0 in /usr/local/lib/python3.10/dist-packages (from imbalanced-learn>=0.12.0->pycaret) (3.5.0)\n",
            "Requirement already satisfied: zipp>=0.5 in /usr/local/lib/python3.10/dist-packages (from importlib-metadata>=4.12.0->pycaret) (3.19.2)\n",
            "Requirement already satisfied: setuptools>=18.5 in /usr/local/lib/python3.10/dist-packages (from ipython>=5.5.0->pycaret) (67.7.2)\n",
            "Collecting jedi>=0.16 (from ipython>=5.5.0->pycaret)\n",
            "  Downloading jedi-0.19.1-py2.py3-none-any.whl (1.6 MB)\n",
            "\u001b[2K     \u001b[90m━━━━━━━━━━━━━━━━━━━━━━━━━━━━━━━━━━━━━━━━\u001b[0m \u001b[32m1.6/1.6 MB\u001b[0m \u001b[31m78.3 MB/s\u001b[0m eta \u001b[36m0:00:00\u001b[0m\n",
            "\u001b[?25hRequirement already satisfied: decorator in /usr/local/lib/python3.10/dist-packages (from ipython>=5.5.0->pycaret) (4.4.2)\n",
            "Requirement already satisfied: pickleshare in /usr/local/lib/python3.10/dist-packages (from ipython>=5.5.0->pycaret) (0.7.5)\n",
            "Requirement already satisfied: traitlets>=4.2 in /usr/local/lib/python3.10/dist-packages (from ipython>=5.5.0->pycaret) (5.7.1)\n",
            "Requirement already satisfied: prompt-toolkit!=3.0.0,!=3.0.1,<3.1.0,>=2.0.0 in /usr/local/lib/python3.10/dist-packages (from ipython>=5.5.0->pycaret) (3.0.47)\n",
            "Requirement already satisfied: pygments in /usr/local/lib/python3.10/dist-packages (from ipython>=5.5.0->pycaret) (2.16.1)\n",
            "Requirement already satisfied: backcall in /usr/local/lib/python3.10/dist-packages (from ipython>=5.5.0->pycaret) (0.2.0)\n",
            "Requirement already satisfied: matplotlib-inline in /usr/local/lib/python3.10/dist-packages (from ipython>=5.5.0->pycaret) (0.1.7)\n",
            "Requirement already satisfied: pexpect>4.3 in /usr/local/lib/python3.10/dist-packages (from ipython>=5.5.0->pycaret) (4.9.0)\n",
            "Requirement already satisfied: ipykernel>=4.5.1 in /usr/local/lib/python3.10/dist-packages (from ipywidgets>=7.6.5->pycaret) (5.5.6)\n",
            "Requirement already satisfied: ipython-genutils~=0.2.0 in /usr/local/lib/python3.10/dist-packages (from ipywidgets>=7.6.5->pycaret) (0.2.0)\n",
            "Requirement already satisfied: widgetsnbextension~=3.6.0 in /usr/local/lib/python3.10/dist-packages (from ipywidgets>=7.6.5->pycaret) (3.6.6)\n",
            "Requirement already satisfied: jupyterlab-widgets>=1.0.0 in /usr/local/lib/python3.10/dist-packages (from ipywidgets>=7.6.5->pycaret) (3.0.11)\n",
            "Requirement already satisfied: contourpy>=1.0.1 in /usr/local/lib/python3.10/dist-packages (from matplotlib<3.8.0->pycaret) (1.2.1)\n",
            "Requirement already satisfied: cycler>=0.10 in /usr/local/lib/python3.10/dist-packages (from matplotlib<3.8.0->pycaret) (0.12.1)\n",
            "Requirement already satisfied: fonttools>=4.22.0 in /usr/local/lib/python3.10/dist-packages (from matplotlib<3.8.0->pycaret) (4.53.0)\n",
            "Requirement already satisfied: kiwisolver>=1.0.1 in /usr/local/lib/python3.10/dist-packages (from matplotlib<3.8.0->pycaret) (1.4.5)\n",
            "Requirement already satisfied: pillow>=6.2.0 in /usr/local/lib/python3.10/dist-packages (from matplotlib<3.8.0->pycaret) (9.4.0)\n",
            "Requirement already satisfied: pyparsing>=2.3.1 in /usr/local/lib/python3.10/dist-packages (from matplotlib<3.8.0->pycaret) (3.1.2)\n",
            "Requirement already satisfied: python-dateutil>=2.7 in /usr/local/lib/python3.10/dist-packages (from matplotlib<3.8.0->pycaret) (2.8.2)\n",
            "Requirement already satisfied: fastjsonschema>=2.15 in /usr/local/lib/python3.10/dist-packages (from nbformat>=4.2.0->pycaret) (2.20.0)\n",
            "Requirement already satisfied: jsonschema>=2.6 in /usr/local/lib/python3.10/dist-packages (from nbformat>=4.2.0->pycaret) (4.19.2)\n",
            "Requirement already satisfied: jupyter-core!=5.0.*,>=4.12 in /usr/local/lib/python3.10/dist-packages (from nbformat>=4.2.0->pycaret) (5.7.2)\n",
            "Requirement already satisfied: llvmlite<0.42,>=0.41.0dev0 in /usr/local/lib/python3.10/dist-packages (from numba>=0.55.0->pycaret) (0.41.1)\n",
            "Requirement already satisfied: pytz>=2020.1 in /usr/local/lib/python3.10/dist-packages (from pandas<2.2.0->pycaret) (2023.4)\n",
            "Requirement already satisfied: tzdata>=2022.1 in /usr/local/lib/python3.10/dist-packages (from pandas<2.2.0->pycaret) (2024.1)\n",
            "Requirement already satisfied: tenacity>=6.2.0 in /usr/local/lib/python3.10/dist-packages (from plotly>=5.14.0->pycaret) (8.4.2)\n",
            "Collecting dash>=2.9.0 (from plotly-resampler>=0.8.3.1->pycaret)\n",
            "  Downloading dash-2.17.1-py3-none-any.whl (7.5 MB)\n",
            "\u001b[2K     \u001b[90m━━━━━━━━━━━━━━━━━━━━━━━━━━━━━━━━━━━━━━━━\u001b[0m \u001b[32m7.5/7.5 MB\u001b[0m \u001b[31m101.5 MB/s\u001b[0m eta \u001b[36m0:00:00\u001b[0m\n",
            "\u001b[?25hCollecting orjson<4.0.0,>=3.8.0 (from plotly-resampler>=0.8.3.1->pycaret)\n",
            "  Downloading orjson-3.10.6-cp310-cp310-manylinux_2_17_x86_64.manylinux2014_x86_64.whl (141 kB)\n",
            "\u001b[2K     \u001b[90m━━━━━━━━━━━━━━━━━━━━━━━━━━━━━━━━━━━━━━━━\u001b[0m \u001b[32m141.1/141.1 kB\u001b[0m \u001b[31m7.1 MB/s\u001b[0m eta \u001b[36m0:00:00\u001b[0m\n",
            "\u001b[?25hCollecting tsdownsample>=0.1.3 (from plotly-resampler>=0.8.3.1->pycaret)\n",
            "  Downloading tsdownsample-0.1.3-cp310-cp310-manylinux_2_17_x86_64.manylinux2014_x86_64.whl (2.1 MB)\n",
            "\u001b[2K     \u001b[90m━━━━━━━━━━━━━━━━━━━━━━━━━━━━━━━━━━━━━━━━\u001b[0m \u001b[32m2.1/2.1 MB\u001b[0m \u001b[31m87.3 MB/s\u001b[0m eta \u001b[36m0:00:00\u001b[0m\n",
            "\u001b[?25hRequirement already satisfied: Cython!=0.29.18,!=0.29.31,>=0.29 in /usr/local/lib/python3.10/dist-packages (from pmdarima>=2.0.4->pycaret) (3.0.10)\n",
            "Requirement already satisfied: urllib3 in /usr/local/lib/python3.10/dist-packages (from pmdarima>=2.0.4->pycaret) (2.0.7)\n",
            "Requirement already satisfied: charset-normalizer<4,>=2 in /usr/local/lib/python3.10/dist-packages (from requests>=2.27.1->pycaret) (3.3.2)\n",
            "Requirement already satisfied: idna<4,>=2.5 in /usr/local/lib/python3.10/dist-packages (from requests>=2.27.1->pycaret) (3.7)\n",
            "Requirement already satisfied: certifi>=2017.4.17 in /usr/local/lib/python3.10/dist-packages (from requests>=2.27.1->pycaret) (2024.6.2)\n",
            "Requirement already satisfied: Flask<3.1,>=1.0.4 in /usr/local/lib/python3.10/dist-packages (from dash>=2.9.0->plotly-resampler>=0.8.3.1->pycaret) (2.2.5)\n",
            "Requirement already satisfied: Werkzeug<3.1 in /usr/local/lib/python3.10/dist-packages (from dash>=2.9.0->plotly-resampler>=0.8.3.1->pycaret) (3.0.3)\n",
            "Collecting dash-html-components==2.0.0 (from dash>=2.9.0->plotly-resampler>=0.8.3.1->pycaret)\n",
            "  Downloading dash_html_components-2.0.0-py3-none-any.whl (4.1 kB)\n",
            "Collecting dash-core-components==2.0.0 (from dash>=2.9.0->plotly-resampler>=0.8.3.1->pycaret)\n",
            "  Downloading dash_core_components-2.0.0-py3-none-any.whl (3.8 kB)\n",
            "Collecting dash-table==5.0.0 (from dash>=2.9.0->plotly-resampler>=0.8.3.1->pycaret)\n",
            "  Downloading dash_table-5.0.0-py3-none-any.whl (3.9 kB)\n",
            "Requirement already satisfied: typing-extensions>=4.1.1 in /usr/local/lib/python3.10/dist-packages (from dash>=2.9.0->plotly-resampler>=0.8.3.1->pycaret) (4.12.2)\n",
            "Collecting retrying (from dash>=2.9.0->plotly-resampler>=0.8.3.1->pycaret)\n",
            "  Downloading retrying-1.3.4-py3-none-any.whl (11 kB)\n",
            "Requirement already satisfied: nest-asyncio in /usr/local/lib/python3.10/dist-packages (from dash>=2.9.0->plotly-resampler>=0.8.3.1->pycaret) (1.6.0)\n",
            "Requirement already satisfied: jupyter-client in /usr/local/lib/python3.10/dist-packages (from ipykernel>=4.5.1->ipywidgets>=7.6.5->pycaret) (6.1.12)\n",
            "Requirement already satisfied: tornado>=4.2 in /usr/local/lib/python3.10/dist-packages (from ipykernel>=4.5.1->ipywidgets>=7.6.5->pycaret) (6.3.3)\n",
            "Requirement already satisfied: parso<0.9.0,>=0.8.3 in /usr/local/lib/python3.10/dist-packages (from jedi>=0.16->ipython>=5.5.0->pycaret) (0.8.4)\n",
            "Requirement already satisfied: attrs>=22.2.0 in /usr/local/lib/python3.10/dist-packages (from jsonschema>=2.6->nbformat>=4.2.0->pycaret) (23.2.0)\n",
            "Requirement already satisfied: jsonschema-specifications>=2023.03.6 in /usr/local/lib/python3.10/dist-packages (from jsonschema>=2.6->nbformat>=4.2.0->pycaret) (2023.12.1)\n",
            "Requirement already satisfied: referencing>=0.28.4 in /usr/local/lib/python3.10/dist-packages (from jsonschema>=2.6->nbformat>=4.2.0->pycaret) (0.35.1)\n",
            "Requirement already satisfied: rpds-py>=0.7.1 in /usr/local/lib/python3.10/dist-packages (from jsonschema>=2.6->nbformat>=4.2.0->pycaret) (0.18.1)\n",
            "Requirement already satisfied: platformdirs>=2.5 in /usr/local/lib/python3.10/dist-packages (from jupyter-core!=5.0.*,>=4.12->nbformat>=4.2.0->pycaret) (4.2.2)\n",
            "Requirement already satisfied: six in /usr/local/lib/python3.10/dist-packages (from patsy>=0.5.1->category-encoders>=2.4.0->pycaret) (1.16.0)\n",
            "Requirement already satisfied: ptyprocess>=0.5 in /usr/local/lib/python3.10/dist-packages (from pexpect>4.3->ipython>=5.5.0->pycaret) (0.7.0)\n",
            "Requirement already satisfied: wcwidth in /usr/local/lib/python3.10/dist-packages (from prompt-toolkit!=3.0.0,!=3.0.1,<3.1.0,>=2.0.0->ipython>=5.5.0->pycaret) (0.2.13)\n",
            "Requirement already satisfied: notebook>=4.4.1 in /usr/local/lib/python3.10/dist-packages (from widgetsnbextension~=3.6.0->ipywidgets>=7.6.5->pycaret) (6.5.5)\n",
            "Requirement already satisfied: itsdangerous>=2.0 in /usr/local/lib/python3.10/dist-packages (from Flask<3.1,>=1.0.4->dash>=2.9.0->plotly-resampler>=0.8.3.1->pycaret) (2.2.0)\n",
            "Requirement already satisfied: click>=8.0 in /usr/local/lib/python3.10/dist-packages (from Flask<3.1,>=1.0.4->dash>=2.9.0->plotly-resampler>=0.8.3.1->pycaret) (8.1.7)\n",
            "Requirement already satisfied: pyzmq<25,>=17 in /usr/local/lib/python3.10/dist-packages (from notebook>=4.4.1->widgetsnbextension~=3.6.0->ipywidgets>=7.6.5->pycaret) (24.0.1)\n",
            "Requirement already satisfied: argon2-cffi in /usr/local/lib/python3.10/dist-packages (from notebook>=4.4.1->widgetsnbextension~=3.6.0->ipywidgets>=7.6.5->pycaret) (23.1.0)\n",
            "Requirement already satisfied: nbconvert>=5 in /usr/local/lib/python3.10/dist-packages (from notebook>=4.4.1->widgetsnbextension~=3.6.0->ipywidgets>=7.6.5->pycaret) (6.5.4)\n",
            "Requirement already satisfied: Send2Trash>=1.8.0 in /usr/local/lib/python3.10/dist-packages (from notebook>=4.4.1->widgetsnbextension~=3.6.0->ipywidgets>=7.6.5->pycaret) (1.8.3)\n",
            "Requirement already satisfied: terminado>=0.8.3 in /usr/local/lib/python3.10/dist-packages (from notebook>=4.4.1->widgetsnbextension~=3.6.0->ipywidgets>=7.6.5->pycaret) (0.18.1)\n",
            "Requirement already satisfied: prometheus-client in /usr/local/lib/python3.10/dist-packages (from notebook>=4.4.1->widgetsnbextension~=3.6.0->ipywidgets>=7.6.5->pycaret) (0.20.0)\n",
            "Requirement already satisfied: nbclassic>=0.4.7 in /usr/local/lib/python3.10/dist-packages (from notebook>=4.4.1->widgetsnbextension~=3.6.0->ipywidgets>=7.6.5->pycaret) (1.1.0)\n",
            "Requirement already satisfied: notebook-shim>=0.2.3 in /usr/local/lib/python3.10/dist-packages (from nbclassic>=0.4.7->notebook>=4.4.1->widgetsnbextension~=3.6.0->ipywidgets>=7.6.5->pycaret) (0.2.4)\n",
            "Requirement already satisfied: lxml in /usr/local/lib/python3.10/dist-packages (from nbconvert>=5->notebook>=4.4.1->widgetsnbextension~=3.6.0->ipywidgets>=7.6.5->pycaret) (4.9.4)\n",
            "Requirement already satisfied: beautifulsoup4 in /usr/local/lib/python3.10/dist-packages (from nbconvert>=5->notebook>=4.4.1->widgetsnbextension~=3.6.0->ipywidgets>=7.6.5->pycaret) (4.12.3)\n",
            "Requirement already satisfied: bleach in /usr/local/lib/python3.10/dist-packages (from nbconvert>=5->notebook>=4.4.1->widgetsnbextension~=3.6.0->ipywidgets>=7.6.5->pycaret) (6.1.0)\n",
            "Requirement already satisfied: defusedxml in /usr/local/lib/python3.10/dist-packages (from nbconvert>=5->notebook>=4.4.1->widgetsnbextension~=3.6.0->ipywidgets>=7.6.5->pycaret) (0.7.1)\n",
            "Requirement already satisfied: entrypoints>=0.2.2 in /usr/local/lib/python3.10/dist-packages (from nbconvert>=5->notebook>=4.4.1->widgetsnbextension~=3.6.0->ipywidgets>=7.6.5->pycaret) (0.4)\n",
            "Requirement already satisfied: jupyterlab-pygments in /usr/local/lib/python3.10/dist-packages (from nbconvert>=5->notebook>=4.4.1->widgetsnbextension~=3.6.0->ipywidgets>=7.6.5->pycaret) (0.3.0)\n",
            "Requirement already satisfied: mistune<2,>=0.8.1 in /usr/local/lib/python3.10/dist-packages (from nbconvert>=5->notebook>=4.4.1->widgetsnbextension~=3.6.0->ipywidgets>=7.6.5->pycaret) (0.8.4)\n",
            "Requirement already satisfied: nbclient>=0.5.0 in /usr/local/lib/python3.10/dist-packages (from nbconvert>=5->notebook>=4.4.1->widgetsnbextension~=3.6.0->ipywidgets>=7.6.5->pycaret) (0.10.0)\n",
            "Requirement already satisfied: pandocfilters>=1.4.1 in /usr/local/lib/python3.10/dist-packages (from nbconvert>=5->notebook>=4.4.1->widgetsnbextension~=3.6.0->ipywidgets>=7.6.5->pycaret) (1.5.1)\n",
            "Requirement already satisfied: tinycss2 in /usr/local/lib/python3.10/dist-packages (from nbconvert>=5->notebook>=4.4.1->widgetsnbextension~=3.6.0->ipywidgets>=7.6.5->pycaret) (1.3.0)\n",
            "Requirement already satisfied: argon2-cffi-bindings in /usr/local/lib/python3.10/dist-packages (from argon2-cffi->notebook>=4.4.1->widgetsnbextension~=3.6.0->ipywidgets>=7.6.5->pycaret) (21.2.0)\n",
            "Requirement already satisfied: jupyter-server<3,>=1.8 in /usr/local/lib/python3.10/dist-packages (from notebook-shim>=0.2.3->nbclassic>=0.4.7->notebook>=4.4.1->widgetsnbextension~=3.6.0->ipywidgets>=7.6.5->pycaret) (1.24.0)\n",
            "Requirement already satisfied: cffi>=1.0.1 in /usr/local/lib/python3.10/dist-packages (from argon2-cffi-bindings->argon2-cffi->notebook>=4.4.1->widgetsnbextension~=3.6.0->ipywidgets>=7.6.5->pycaret) (1.16.0)\n",
            "Requirement already satisfied: soupsieve>1.2 in /usr/local/lib/python3.10/dist-packages (from beautifulsoup4->nbconvert>=5->notebook>=4.4.1->widgetsnbextension~=3.6.0->ipywidgets>=7.6.5->pycaret) (2.5)\n",
            "Requirement already satisfied: webencodings in /usr/local/lib/python3.10/dist-packages (from bleach->nbconvert>=5->notebook>=4.4.1->widgetsnbextension~=3.6.0->ipywidgets>=7.6.5->pycaret) (0.5.1)\n",
            "Requirement already satisfied: pycparser in /usr/local/lib/python3.10/dist-packages (from cffi>=1.0.1->argon2-cffi-bindings->argon2-cffi->notebook>=4.4.1->widgetsnbextension~=3.6.0->ipywidgets>=7.6.5->pycaret) (2.22)\n",
            "Requirement already satisfied: anyio<4,>=3.1.0 in /usr/local/lib/python3.10/dist-packages (from jupyter-server<3,>=1.8->notebook-shim>=0.2.3->nbclassic>=0.4.7->notebook>=4.4.1->widgetsnbextension~=3.6.0->ipywidgets>=7.6.5->pycaret) (3.7.1)\n",
            "Requirement already satisfied: websocket-client in /usr/local/lib/python3.10/dist-packages (from jupyter-server<3,>=1.8->notebook-shim>=0.2.3->nbclassic>=0.4.7->notebook>=4.4.1->widgetsnbextension~=3.6.0->ipywidgets>=7.6.5->pycaret) (1.8.0)\n",
            "Requirement already satisfied: sniffio>=1.1 in /usr/local/lib/python3.10/dist-packages (from anyio<4,>=3.1.0->jupyter-server<3,>=1.8->notebook-shim>=0.2.3->nbclassic>=0.4.7->notebook>=4.4.1->widgetsnbextension~=3.6.0->ipywidgets>=7.6.5->pycaret) (1.3.1)\n",
            "Requirement already satisfied: exceptiongroup in /usr/local/lib/python3.10/dist-packages (from anyio<4,>=3.1.0->jupyter-server<3,>=1.8->notebook-shim>=0.2.3->nbclassic>=0.4.7->notebook>=4.4.1->widgetsnbextension~=3.6.0->ipywidgets>=7.6.5->pycaret) (1.2.1)\n",
            "Building wheels for collected packages: pyod\n",
            "  Building wheel for pyod (setup.py) ... \u001b[?25l\u001b[?25hdone\n",
            "  Created wheel for pyod: filename=pyod-2.0.1-py3-none-any.whl size=193267 sha256=9ea961be76a10a29a79e1583c8e74a0372957c7900935069739f5644c59de9f8\n",
            "  Stored in directory: /root/.cache/pip/wheels/94/75/88/b853cf33b0053b0a001dca55b74d515048b7656e736364eb57\n",
            "Successfully built pyod\n",
            "Installing collected packages: kaleido, dash-table, dash-html-components, dash-core-components, xxhash, wurlitzer, tsdownsample, scikit-base, schemdraw, retrying, orjson, joblib, jedi, deprecation, scikit-learn, sktime, scikit-plot, pyod, imbalanced-learn, dash, pmdarima, plotly-resampler, category-encoders, tbats, pycaret\n",
            "  Attempting uninstall: joblib\n",
            "    Found existing installation: joblib 1.4.2\n",
            "    Uninstalling joblib-1.4.2:\n",
            "      Successfully uninstalled joblib-1.4.2\n",
            "  Attempting uninstall: scikit-learn\n",
            "    Found existing installation: scikit-learn 1.2.2\n",
            "    Uninstalling scikit-learn-1.2.2:\n",
            "      Successfully uninstalled scikit-learn-1.2.2\n",
            "  Attempting uninstall: imbalanced-learn\n",
            "    Found existing installation: imbalanced-learn 0.10.1\n",
            "    Uninstalling imbalanced-learn-0.10.1:\n",
            "      Successfully uninstalled imbalanced-learn-0.10.1\n",
            "Successfully installed category-encoders-2.6.3 dash-2.17.1 dash-core-components-2.0.0 dash-html-components-2.0.0 dash-table-5.0.0 deprecation-2.1.0 imbalanced-learn-0.12.3 jedi-0.19.1 joblib-1.3.2 kaleido-0.2.1 orjson-3.10.6 plotly-resampler-0.10.0 pmdarima-2.0.4 pycaret-3.3.2 pyod-2.0.1 retrying-1.3.4 schemdraw-0.15 scikit-base-0.7.8 scikit-learn-1.4.2 scikit-plot-0.3.7 sktime-0.26.0 tbats-1.1.3 tsdownsample-0.1.3 wurlitzer-3.1.1 xxhash-3.4.1\n"
          ]
        }
      ]
    },
    {
      "cell_type": "code",
      "metadata": {
        "id": "7LfnpwSS9nue"
      },
      "source": [
        "#εισαγωγή βιβλιοθηκών - πακέτων\n",
        "import pycaret\n",
        "import pandas as pd\n",
        "import numpy as np\n",
        "import matplotlib.pyplot as plt\n",
        "from pycaret.classification import *"
      ],
      "execution_count": 3,
      "outputs": []
    },
    {
      "cell_type": "code",
      "metadata": {
        "colab": {
          "base_uri": "https://localhost:8080/"
        },
        "id": "ZunbzPVa9a6g",
        "outputId": "17ae7fd2-0ba1-4596-c135-3a5013081f93"
      },
      "source": [
        "#εισαγωγή του συνόλου δεδομένων\n",
        "url = 'https://raw.githubusercontent.com/kdemertzis/EKPA/main/Data/dga_domain.csv'\n",
        "df = pd.read_csv(url)\n",
        "#έλεγχος σχήματος συνόλου δεδομένων\n",
        "print(df.shape)"
      ],
      "execution_count": 4,
      "outputs": [
        {
          "output_type": "stream",
          "name": "stdout",
          "text": [
            "(117588, 6)\n"
          ]
        }
      ]
    },
    {
      "cell_type": "code",
      "source": [
        "#ανακάτεμα των δεδομένων\n",
        "df = df.sample(frac = 1)\n",
        "print(df.head())"
      ],
      "metadata": {
        "id": "DCynJDtpYx8z",
        "outputId": "f339645f-6ed4-4a0b-8f95-2bcbc19bdf84",
        "colab": {
          "base_uri": "https://localhost:8080/"
        }
      },
      "execution_count": 5,
      "outputs": [
        {
          "output_type": "stream",
          "name": "stdout",
          "text": [
            "        length   entropy   alexa_grams   word_grams      diff  class\n",
            "31406       17  3.616875     71.564326    68.862895  2.701431  legit\n",
            "65337        9  2.947703     22.233024    20.050980  2.182044  legit\n",
            "115354      17  3.337175      9.679474    11.724711 -2.045237    dga\n",
            "110618      17  3.292770     19.986020    26.629717 -6.643698    dga\n",
            "69287       15  3.640224     49.842297    57.703992 -7.861695  legit\n"
          ]
        }
      ]
    },
    {
      "cell_type": "code",
      "metadata": {
        "id": "J6y3Zhq2-EZ8"
      },
      "source": [
        "#εγκατάσταση του συνόλου δεδομένων\n",
        "grid = setup(data=df, target=df.columns[-1], html=False, verbose=False)"
      ],
      "execution_count": 6,
      "outputs": []
    },
    {
      "cell_type": "code",
      "metadata": {
        "colab": {
          "base_uri": "https://localhost:8080/"
        },
        "id": "ZGJ7kigzA1Rf",
        "outputId": "326a4b44-3934-4385-d853-afdd41f90d59"
      },
      "source": [
        "#σύγκριση των διαθέσιμων μοντέλων ΜΜ\n",
        "best = compare_models(cross_validation=False, n_select = 1)\n",
        "%load_ext tensorboard"
      ],
      "execution_count": 7,
      "outputs": [
        {
          "output_type": "stream",
          "name": "stderr",
          "text": [
            "                                                           "
          ]
        },
        {
          "output_type": "stream",
          "name": "stdout",
          "text": [
            "                                    Model  Accuracy     AUC  Recall   Prec.  \\\n",
            "xgboost         Extreme Gradient Boosting    0.8891  0.9102  0.8891  0.8888   \n",
            "lightgbm  Light Gradient Boosting Machine    0.8891  0.9112  0.8891  0.8894   \n",
            "gbc          Gradient Boosting Classifier    0.8889  0.9080  0.8889  0.8893   \n",
            "rf               Random Forest Classifier    0.8818  0.8951  0.8818  0.8778   \n",
            "lr                    Logistic Regression    0.8760  0.8744  0.8760  0.8743   \n",
            "knn                K Neighbors Classifier    0.8734  0.8673  0.8734  0.8683   \n",
            "et                 Extra Trees Classifier    0.8706  0.8873  0.8706  0.8651   \n",
            "svm                   SVM - Linear Kernel    0.8639  0.0000  0.8639  0.8770   \n",
            "qda       Quadratic Discriminant Analysis    0.8521  0.8793  0.8521  0.8518   \n",
            "lda          Linear Discriminant Analysis    0.8521  0.8592  0.8521  0.8560   \n",
            "ridge                    Ridge Classifier    0.8338  0.0000  0.8338  0.8353   \n",
            "dt               Decision Tree Classifier    0.8257  0.7885  0.8257  0.8284   \n",
            "ada                  Ada Boost Classifier    0.7671  0.5760  0.7671  0.6381   \n",
            "nb                            Naive Bayes    0.7661  0.7780  0.7661  0.7392   \n",
            "dummy                    Dummy Classifier    0.7342  0.0000  0.7342  0.5391   \n",
            "\n",
            "              F1   Kappa     MCC  TT (Sec)  \n",
            "xgboost   0.8811  0.7012  0.7162      2.13  \n",
            "lightgbm  0.8806  0.7001  0.7165      1.50  \n",
            "gbc       0.8800  0.6989  0.7160     61.30  \n",
            "rf        0.8753  0.6880  0.6967     23.02  \n",
            "lr        0.8672  0.6649  0.6798      4.46  \n",
            "knn       0.8667  0.6664  0.6744      0.14  \n",
            "et        0.8654  0.6643  0.6690      6.43  \n",
            "svm       0.8453  0.6077  0.6515      4.02  \n",
            "qda       0.8496  0.6347  0.6360      0.08  \n",
            "lda       0.8399  0.5849  0.6103      0.09  \n",
            "ridge     0.8008  0.4850  0.5486      0.08  \n",
            "dt        0.8270  0.5779  0.5781      1.00  \n",
            "ada       0.6731  0.2211  0.3352      4.66  \n",
            "nb        0.7440  0.3670  0.3778      0.09  \n",
            "dummy     0.6217  0.0000  0.0000      0.04  \n"
          ]
        },
        {
          "output_type": "stream",
          "name": "stderr",
          "text": [
            "\r"
          ]
        }
      ]
    },
    {
      "cell_type": "code",
      "metadata": {
        "colab": {
          "base_uri": "https://localhost:8080/"
        },
        "id": "TorFLtNx-kCm",
        "outputId": "966a8fc9-7453-40fd-fe43-a495557f5ebf"
      },
      "source": [
        "#αναφορά των υπερπαραμέτρων του μοντέλου με την υψηλότερη απόδοση\n",
        "print(best)"
      ],
      "execution_count": 8,
      "outputs": [
        {
          "output_type": "stream",
          "name": "stdout",
          "text": [
            "XGBClassifier(base_score=None, booster='gbtree', callbacks=None,\n",
            "              colsample_bylevel=None, colsample_bynode=None,\n",
            "              colsample_bytree=None, device='cpu', early_stopping_rounds=None,\n",
            "              enable_categorical=False, eval_metric=None, feature_types=None,\n",
            "              gamma=None, grow_policy=None, importance_type=None,\n",
            "              interaction_constraints=None, learning_rate=None, max_bin=None,\n",
            "              max_cat_threshold=None, max_cat_to_onehot=None,\n",
            "              max_delta_step=None, max_depth=None, max_leaves=None,\n",
            "              min_child_weight=None, missing=nan, monotone_constraints=None,\n",
            "              multi_strategy=None, n_estimators=None, n_jobs=-1,\n",
            "              num_parallel_tree=None, objective='multi:softprob', ...)\n"
          ]
        }
      ]
    },
    {
      "cell_type": "code",
      "metadata": {
        "id": "XJTnGY38yxrE",
        "outputId": "ae61dd82-6b1e-4188-e76b-aff0679083ca",
        "colab": {
          "base_uri": "https://localhost:8080/",
          "height": 231,
          "referenced_widgets": [
            "9b908cd2a69346e8bc2fb3e7830f012a",
            "67302dd4ae0f4b21bec5ada14a938492",
            "7e5c5f5046454b3c858a2ba2712fd3c1",
            "fc1912f968614233897367dd4843717f",
            "96698aecc5164b2e89a6d87517736422",
            "5239f059973646d79b426ca8b63d25ab",
            "982e90ea750d40498a92a5c1ec1f46d8"
          ]
        }
      },
      "source": [
        "#μέτρα αξιολόγησης του μοντέλου με την υψηλότερη απόδοση\n",
        "evaluate_model(best)"
      ],
      "execution_count": 9,
      "outputs": [
        {
          "output_type": "display_data",
          "data": {
            "text/plain": [
              "interactive(children=(ToggleButtons(description='Plot Type:', icons=('',), options=(('Pipeline Plot', 'pipelin…"
            ],
            "application/vnd.jupyter.widget-view+json": {
              "version_major": 2,
              "version_minor": 0,
              "model_id": "9b908cd2a69346e8bc2fb3e7830f012a"
            }
          },
          "metadata": {
            "application/vnd.jupyter.widget-view+json": {
              "colab": {
                "custom_widget_manager": {
                  "url": "https://ssl.gstatic.com/colaboratory-static/widgets/colab-cdn-widget-manager/2b70e893a8ba7c0f/manager.min.js"
                }
              }
            }
          }
        }
      ]
    }
  ]
}