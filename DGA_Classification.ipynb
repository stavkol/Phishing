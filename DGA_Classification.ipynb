{
  "nbformat": 4,
  "nbformat_minor": 0,
  "metadata": {
    "colab": {
      "provenance": [],
      "include_colab_link": true
    },
    "kernelspec": {
      "name": "python3",
      "display_name": "Python 3"
    },
    "widgets": {
      "application/vnd.jupyter.widget-state+json": {
        "d7d1fd21a6174aa8a64dde3205d2d55c": {
          "model_module": "@jupyter-widgets/controls",
          "model_name": "VBoxModel",
          "model_module_version": "1.5.0",
          "state": {
            "_dom_classes": [
              "widget-interact"
            ],
            "_model_module": "@jupyter-widgets/controls",
            "_model_module_version": "1.5.0",
            "_model_name": "VBoxModel",
            "_view_count": null,
            "_view_module": "@jupyter-widgets/controls",
            "_view_module_version": "1.5.0",
            "_view_name": "VBoxView",
            "box_style": "",
            "children": [
              "IPY_MODEL_a932bc46dfd14585845ea85ea839c079",
              "IPY_MODEL_26f2b1081747404db8831b9b0b9a3597"
            ],
            "layout": "IPY_MODEL_19b947fbc54e4f4cb560137828e546a8"
          }
        },
        "a932bc46dfd14585845ea85ea839c079": {
          "model_module": "@jupyter-widgets/controls",
          "model_name": "ToggleButtonsModel",
          "model_module_version": "1.5.0",
          "state": {
            "_dom_classes": [],
            "_model_module": "@jupyter-widgets/controls",
            "_model_module_version": "1.5.0",
            "_model_name": "ToggleButtonsModel",
            "_options_labels": [
              "Pipeline Plot",
              "Hyperparameters",
              "AUC",
              "Confusion Matrix",
              "Threshold",
              "Precision Recall",
              "Prediction Error",
              "Class Report",
              "Feature Selection",
              "Learning Curve",
              "Manifold Learning",
              "Calibration Curve",
              "Validation Curve",
              "Dimensions",
              "Feature Importance",
              "Feature Importance (All)",
              "Decision Boundary",
              "Lift Chart",
              "Gain Chart",
              "Decision Tree",
              "KS Statistic Plot"
            ],
            "_view_count": null,
            "_view_module": "@jupyter-widgets/controls",
            "_view_module_version": "1.5.0",
            "_view_name": "ToggleButtonsView",
            "button_style": "",
            "description": "Plot Type:",
            "description_tooltip": null,
            "disabled": false,
            "icons": [
              ""
            ],
            "index": 3,
            "layout": "IPY_MODEL_750c517740c74a719442039e2456cf2f",
            "style": "IPY_MODEL_7240533ab6b944fa95cdc9329ef018dd",
            "tooltips": []
          }
        },
        "26f2b1081747404db8831b9b0b9a3597": {
          "model_module": "@jupyter-widgets/output",
          "model_name": "OutputModel",
          "model_module_version": "1.0.0",
          "state": {
            "_dom_classes": [],
            "_model_module": "@jupyter-widgets/output",
            "_model_module_version": "1.0.0",
            "_model_name": "OutputModel",
            "_view_count": null,
            "_view_module": "@jupyter-widgets/output",
            "_view_module_version": "1.0.0",
            "_view_name": "OutputView",
            "layout": "IPY_MODEL_d526ac5eda434e33b77d55c3b0f7946b",
            "msg_id": "",
            "outputs": [
              {
                "output_type": "display_data",
                "data": {
                  "text/plain": "<Figure size 800x550 with 1 Axes>",
                  "image/png": "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\n"
                },
                "metadata": {}
              }
            ]
          }
        },
        "19b947fbc54e4f4cb560137828e546a8": {
          "model_module": "@jupyter-widgets/base",
          "model_name": "LayoutModel",
          "model_module_version": "1.2.0",
          "state": {
            "_model_module": "@jupyter-widgets/base",
            "_model_module_version": "1.2.0",
            "_model_name": "LayoutModel",
            "_view_count": null,
            "_view_module": "@jupyter-widgets/base",
            "_view_module_version": "1.2.0",
            "_view_name": "LayoutView",
            "align_content": null,
            "align_items": null,
            "align_self": null,
            "border": null,
            "bottom": null,
            "display": null,
            "flex": null,
            "flex_flow": null,
            "grid_area": null,
            "grid_auto_columns": null,
            "grid_auto_flow": null,
            "grid_auto_rows": null,
            "grid_column": null,
            "grid_gap": null,
            "grid_row": null,
            "grid_template_areas": null,
            "grid_template_columns": null,
            "grid_template_rows": null,
            "height": null,
            "justify_content": null,
            "justify_items": null,
            "left": null,
            "margin": null,
            "max_height": null,
            "max_width": null,
            "min_height": null,
            "min_width": null,
            "object_fit": null,
            "object_position": null,
            "order": null,
            "overflow": null,
            "overflow_x": null,
            "overflow_y": null,
            "padding": null,
            "right": null,
            "top": null,
            "visibility": null,
            "width": null
          }
        },
        "750c517740c74a719442039e2456cf2f": {
          "model_module": "@jupyter-widgets/base",
          "model_name": "LayoutModel",
          "model_module_version": "1.2.0",
          "state": {
            "_model_module": "@jupyter-widgets/base",
            "_model_module_version": "1.2.0",
            "_model_name": "LayoutModel",
            "_view_count": null,
            "_view_module": "@jupyter-widgets/base",
            "_view_module_version": "1.2.0",
            "_view_name": "LayoutView",
            "align_content": null,
            "align_items": null,
            "align_self": null,
            "border": null,
            "bottom": null,
            "display": null,
            "flex": null,
            "flex_flow": null,
            "grid_area": null,
            "grid_auto_columns": null,
            "grid_auto_flow": null,
            "grid_auto_rows": null,
            "grid_column": null,
            "grid_gap": null,
            "grid_row": null,
            "grid_template_areas": null,
            "grid_template_columns": null,
            "grid_template_rows": null,
            "height": null,
            "justify_content": null,
            "justify_items": null,
            "left": null,
            "margin": null,
            "max_height": null,
            "max_width": null,
            "min_height": null,
            "min_width": null,
            "object_fit": null,
            "object_position": null,
            "order": null,
            "overflow": null,
            "overflow_x": null,
            "overflow_y": null,
            "padding": null,
            "right": null,
            "top": null,
            "visibility": null,
            "width": null
          }
        },
        "7240533ab6b944fa95cdc9329ef018dd": {
          "model_module": "@jupyter-widgets/controls",
          "model_name": "ToggleButtonsStyleModel",
          "model_module_version": "1.5.0",
          "state": {
            "_model_module": "@jupyter-widgets/controls",
            "_model_module_version": "1.5.0",
            "_model_name": "ToggleButtonsStyleModel",
            "_view_count": null,
            "_view_module": "@jupyter-widgets/base",
            "_view_module_version": "1.2.0",
            "_view_name": "StyleView",
            "button_width": "",
            "description_width": "",
            "font_weight": ""
          }
        },
        "d526ac5eda434e33b77d55c3b0f7946b": {
          "model_module": "@jupyter-widgets/base",
          "model_name": "LayoutModel",
          "model_module_version": "1.2.0",
          "state": {
            "_model_module": "@jupyter-widgets/base",
            "_model_module_version": "1.2.0",
            "_model_name": "LayoutModel",
            "_view_count": null,
            "_view_module": "@jupyter-widgets/base",
            "_view_module_version": "1.2.0",
            "_view_name": "LayoutView",
            "align_content": null,
            "align_items": null,
            "align_self": null,
            "border": null,
            "bottom": null,
            "display": null,
            "flex": null,
            "flex_flow": null,
            "grid_area": null,
            "grid_auto_columns": null,
            "grid_auto_flow": null,
            "grid_auto_rows": null,
            "grid_column": null,
            "grid_gap": null,
            "grid_row": null,
            "grid_template_areas": null,
            "grid_template_columns": null,
            "grid_template_rows": null,
            "height": null,
            "justify_content": null,
            "justify_items": null,
            "left": null,
            "margin": null,
            "max_height": null,
            "max_width": null,
            "min_height": null,
            "min_width": null,
            "object_fit": null,
            "object_position": null,
            "order": null,
            "overflow": null,
            "overflow_x": null,
            "overflow_y": null,
            "padding": null,
            "right": null,
            "top": null,
            "visibility": null,
            "width": null
          }
        }
      }
    }
  },
  "cells": [
    {
      "cell_type": "markdown",
      "metadata": {
        "id": "view-in-github",
        "colab_type": "text"
      },
      "source": [
        "<a href=\"https://colab.research.google.com/github/stavkol/Phishing/blob/main/DGA_Classification.ipynb\" target=\"_parent\"><img src=\"https://colab.research.google.com/assets/colab-badge.svg\" alt=\"Open In Colab\"/></a>"
      ]
    },
    {
      "cell_type": "code",
      "metadata": {
        "id": "2rvGqQdY9C6s",
        "outputId": "06276a8c-8355-4cd9-f641-515f5aed1bbb",
        "colab": {
          "base_uri": "https://localhost:8080/"
        }
      },
      "source": [
        "#εγκατάσταση πακέτου pycaret (https://pycaret.org/)\n",
        "!pip install pycaret\n",
        "#***ΠΡΟΣΟΧΗ*** μετά την εγκατάσταση χρειάζεται restart το session\n",
        "#***θα σας ζητηθεί επανεκκίνηση με σχετικό κόκκινο μήνυμα μετά την ολοκλήρωση της εγκατάστασης\n",
        "#***Πατήστε το κουμπί RESTART SESSION στο σχετικό μήνυμα"
      ],
      "execution_count": 15,
      "outputs": [
        {
          "output_type": "stream",
          "name": "stdout",
          "text": [
            "Requirement already satisfied: pycaret in /usr/local/lib/python3.10/dist-packages (3.3.2)\n",
            "Requirement already satisfied: ipython>=5.5.0 in /usr/local/lib/python3.10/dist-packages (from pycaret) (7.34.0)\n",
            "Requirement already satisfied: ipywidgets>=7.6.5 in /usr/local/lib/python3.10/dist-packages (from pycaret) (7.7.1)\n",
            "Requirement already satisfied: tqdm>=4.62.0 in /usr/local/lib/python3.10/dist-packages (from pycaret) (4.66.4)\n",
            "Requirement already satisfied: numpy<1.27,>=1.21 in /usr/local/lib/python3.10/dist-packages (from pycaret) (1.25.2)\n",
            "Requirement already satisfied: pandas<2.2.0 in /usr/local/lib/python3.10/dist-packages (from pycaret) (2.0.3)\n",
            "Requirement already satisfied: jinja2>=3 in /usr/local/lib/python3.10/dist-packages (from pycaret) (3.1.4)\n",
            "Requirement already satisfied: scipy<=1.11.4,>=1.6.1 in /usr/local/lib/python3.10/dist-packages (from pycaret) (1.11.4)\n",
            "Requirement already satisfied: joblib<1.4,>=1.2.0 in /usr/local/lib/python3.10/dist-packages (from pycaret) (1.3.2)\n",
            "Requirement already satisfied: scikit-learn>1.4.0 in /usr/local/lib/python3.10/dist-packages (from pycaret) (1.4.2)\n",
            "Requirement already satisfied: pyod>=1.1.3 in /usr/local/lib/python3.10/dist-packages (from pycaret) (2.0.1)\n",
            "Requirement already satisfied: imbalanced-learn>=0.12.0 in /usr/local/lib/python3.10/dist-packages (from pycaret) (0.12.3)\n",
            "Requirement already satisfied: category-encoders>=2.4.0 in /usr/local/lib/python3.10/dist-packages (from pycaret) (2.6.3)\n",
            "Requirement already satisfied: lightgbm>=3.0.0 in /usr/local/lib/python3.10/dist-packages (from pycaret) (4.1.0)\n",
            "Requirement already satisfied: numba>=0.55.0 in /usr/local/lib/python3.10/dist-packages (from pycaret) (0.58.1)\n",
            "Requirement already satisfied: requests>=2.27.1 in /usr/local/lib/python3.10/dist-packages (from pycaret) (2.31.0)\n",
            "Requirement already satisfied: psutil>=5.9.0 in /usr/local/lib/python3.10/dist-packages (from pycaret) (5.9.5)\n",
            "Requirement already satisfied: markupsafe>=2.0.1 in /usr/local/lib/python3.10/dist-packages (from pycaret) (2.1.5)\n",
            "Requirement already satisfied: importlib-metadata>=4.12.0 in /usr/local/lib/python3.10/dist-packages (from pycaret) (8.0.0)\n",
            "Requirement already satisfied: nbformat>=4.2.0 in /usr/local/lib/python3.10/dist-packages (from pycaret) (5.10.4)\n",
            "Requirement already satisfied: cloudpickle in /usr/local/lib/python3.10/dist-packages (from pycaret) (2.2.1)\n",
            "Requirement already satisfied: deprecation>=2.1.0 in /usr/local/lib/python3.10/dist-packages (from pycaret) (2.1.0)\n",
            "Requirement already satisfied: xxhash in /usr/local/lib/python3.10/dist-packages (from pycaret) (3.4.1)\n",
            "Requirement already satisfied: matplotlib<3.8.0 in /usr/local/lib/python3.10/dist-packages (from pycaret) (3.7.1)\n",
            "Requirement already satisfied: scikit-plot>=0.3.7 in /usr/local/lib/python3.10/dist-packages (from pycaret) (0.3.7)\n",
            "Requirement already satisfied: yellowbrick>=1.4 in /usr/local/lib/python3.10/dist-packages (from pycaret) (1.5)\n",
            "Requirement already satisfied: plotly>=5.14.0 in /usr/local/lib/python3.10/dist-packages (from pycaret) (5.15.0)\n",
            "Requirement already satisfied: kaleido>=0.2.1 in /usr/local/lib/python3.10/dist-packages (from pycaret) (0.2.1)\n",
            "Requirement already satisfied: schemdraw==0.15 in /usr/local/lib/python3.10/dist-packages (from pycaret) (0.15)\n",
            "Requirement already satisfied: plotly-resampler>=0.8.3.1 in /usr/local/lib/python3.10/dist-packages (from pycaret) (0.10.0)\n",
            "Requirement already satisfied: statsmodels>=0.12.1 in /usr/local/lib/python3.10/dist-packages (from pycaret) (0.14.2)\n",
            "Requirement already satisfied: sktime==0.26.0 in /usr/local/lib/python3.10/dist-packages (from pycaret) (0.26.0)\n",
            "Requirement already satisfied: tbats>=1.1.3 in /usr/local/lib/python3.10/dist-packages (from pycaret) (1.1.3)\n",
            "Requirement already satisfied: pmdarima>=2.0.4 in /usr/local/lib/python3.10/dist-packages (from pycaret) (2.0.4)\n",
            "Requirement already satisfied: wurlitzer in /usr/local/lib/python3.10/dist-packages (from pycaret) (3.1.1)\n",
            "Requirement already satisfied: packaging in /usr/local/lib/python3.10/dist-packages (from sktime==0.26.0->pycaret) (24.1)\n",
            "Requirement already satisfied: scikit-base<0.8.0 in /usr/local/lib/python3.10/dist-packages (from sktime==0.26.0->pycaret) (0.7.8)\n",
            "Requirement already satisfied: patsy>=0.5.1 in /usr/local/lib/python3.10/dist-packages (from category-encoders>=2.4.0->pycaret) (0.5.6)\n",
            "Requirement already satisfied: threadpoolctl>=2.0.0 in /usr/local/lib/python3.10/dist-packages (from imbalanced-learn>=0.12.0->pycaret) (3.5.0)\n",
            "Requirement already satisfied: zipp>=0.5 in /usr/local/lib/python3.10/dist-packages (from importlib-metadata>=4.12.0->pycaret) (3.19.2)\n",
            "Requirement already satisfied: setuptools>=18.5 in /usr/local/lib/python3.10/dist-packages (from ipython>=5.5.0->pycaret) (67.7.2)\n",
            "Requirement already satisfied: jedi>=0.16 in /usr/local/lib/python3.10/dist-packages (from ipython>=5.5.0->pycaret) (0.19.1)\n",
            "Requirement already satisfied: decorator in /usr/local/lib/python3.10/dist-packages (from ipython>=5.5.0->pycaret) (4.4.2)\n",
            "Requirement already satisfied: pickleshare in /usr/local/lib/python3.10/dist-packages (from ipython>=5.5.0->pycaret) (0.7.5)\n",
            "Requirement already satisfied: traitlets>=4.2 in /usr/local/lib/python3.10/dist-packages (from ipython>=5.5.0->pycaret) (5.7.1)\n",
            "Requirement already satisfied: prompt-toolkit!=3.0.0,!=3.0.1,<3.1.0,>=2.0.0 in /usr/local/lib/python3.10/dist-packages (from ipython>=5.5.0->pycaret) (3.0.47)\n",
            "Requirement already satisfied: pygments in /usr/local/lib/python3.10/dist-packages (from ipython>=5.5.0->pycaret) (2.16.1)\n",
            "Requirement already satisfied: backcall in /usr/local/lib/python3.10/dist-packages (from ipython>=5.5.0->pycaret) (0.2.0)\n",
            "Requirement already satisfied: matplotlib-inline in /usr/local/lib/python3.10/dist-packages (from ipython>=5.5.0->pycaret) (0.1.7)\n",
            "Requirement already satisfied: pexpect>4.3 in /usr/local/lib/python3.10/dist-packages (from ipython>=5.5.0->pycaret) (4.9.0)\n",
            "Requirement already satisfied: ipykernel>=4.5.1 in /usr/local/lib/python3.10/dist-packages (from ipywidgets>=7.6.5->pycaret) (5.5.6)\n",
            "Requirement already satisfied: ipython-genutils~=0.2.0 in /usr/local/lib/python3.10/dist-packages (from ipywidgets>=7.6.5->pycaret) (0.2.0)\n",
            "Requirement already satisfied: widgetsnbextension~=3.6.0 in /usr/local/lib/python3.10/dist-packages (from ipywidgets>=7.6.5->pycaret) (3.6.6)\n",
            "Requirement already satisfied: jupyterlab-widgets>=1.0.0 in /usr/local/lib/python3.10/dist-packages (from ipywidgets>=7.6.5->pycaret) (3.0.11)\n",
            "Requirement already satisfied: contourpy>=1.0.1 in /usr/local/lib/python3.10/dist-packages (from matplotlib<3.8.0->pycaret) (1.2.1)\n",
            "Requirement already satisfied: cycler>=0.10 in /usr/local/lib/python3.10/dist-packages (from matplotlib<3.8.0->pycaret) (0.12.1)\n",
            "Requirement already satisfied: fonttools>=4.22.0 in /usr/local/lib/python3.10/dist-packages (from matplotlib<3.8.0->pycaret) (4.53.0)\n",
            "Requirement already satisfied: kiwisolver>=1.0.1 in /usr/local/lib/python3.10/dist-packages (from matplotlib<3.8.0->pycaret) (1.4.5)\n",
            "Requirement already satisfied: pillow>=6.2.0 in /usr/local/lib/python3.10/dist-packages (from matplotlib<3.8.0->pycaret) (9.4.0)\n",
            "Requirement already satisfied: pyparsing>=2.3.1 in /usr/local/lib/python3.10/dist-packages (from matplotlib<3.8.0->pycaret) (3.1.2)\n",
            "Requirement already satisfied: python-dateutil>=2.7 in /usr/local/lib/python3.10/dist-packages (from matplotlib<3.8.0->pycaret) (2.8.2)\n",
            "Requirement already satisfied: fastjsonschema>=2.15 in /usr/local/lib/python3.10/dist-packages (from nbformat>=4.2.0->pycaret) (2.20.0)\n",
            "Requirement already satisfied: jsonschema>=2.6 in /usr/local/lib/python3.10/dist-packages (from nbformat>=4.2.0->pycaret) (4.19.2)\n",
            "Requirement already satisfied: jupyter-core!=5.0.*,>=4.12 in /usr/local/lib/python3.10/dist-packages (from nbformat>=4.2.0->pycaret) (5.7.2)\n",
            "Requirement already satisfied: llvmlite<0.42,>=0.41.0dev0 in /usr/local/lib/python3.10/dist-packages (from numba>=0.55.0->pycaret) (0.41.1)\n",
            "Requirement already satisfied: pytz>=2020.1 in /usr/local/lib/python3.10/dist-packages (from pandas<2.2.0->pycaret) (2023.4)\n",
            "Requirement already satisfied: tzdata>=2022.1 in /usr/local/lib/python3.10/dist-packages (from pandas<2.2.0->pycaret) (2024.1)\n",
            "Requirement already satisfied: tenacity>=6.2.0 in /usr/local/lib/python3.10/dist-packages (from plotly>=5.14.0->pycaret) (8.4.2)\n",
            "Requirement already satisfied: dash>=2.9.0 in /usr/local/lib/python3.10/dist-packages (from plotly-resampler>=0.8.3.1->pycaret) (2.17.1)\n",
            "Requirement already satisfied: orjson<4.0.0,>=3.8.0 in /usr/local/lib/python3.10/dist-packages (from plotly-resampler>=0.8.3.1->pycaret) (3.10.6)\n",
            "Requirement already satisfied: tsdownsample>=0.1.3 in /usr/local/lib/python3.10/dist-packages (from plotly-resampler>=0.8.3.1->pycaret) (0.1.3)\n",
            "Requirement already satisfied: Cython!=0.29.18,!=0.29.31,>=0.29 in /usr/local/lib/python3.10/dist-packages (from pmdarima>=2.0.4->pycaret) (3.0.10)\n",
            "Requirement already satisfied: urllib3 in /usr/local/lib/python3.10/dist-packages (from pmdarima>=2.0.4->pycaret) (2.0.7)\n",
            "Requirement already satisfied: charset-normalizer<4,>=2 in /usr/local/lib/python3.10/dist-packages (from requests>=2.27.1->pycaret) (3.3.2)\n",
            "Requirement already satisfied: idna<4,>=2.5 in /usr/local/lib/python3.10/dist-packages (from requests>=2.27.1->pycaret) (3.7)\n",
            "Requirement already satisfied: certifi>=2017.4.17 in /usr/local/lib/python3.10/dist-packages (from requests>=2.27.1->pycaret) (2024.6.2)\n",
            "Requirement already satisfied: Flask<3.1,>=1.0.4 in /usr/local/lib/python3.10/dist-packages (from dash>=2.9.0->plotly-resampler>=0.8.3.1->pycaret) (2.2.5)\n",
            "Requirement already satisfied: Werkzeug<3.1 in /usr/local/lib/python3.10/dist-packages (from dash>=2.9.0->plotly-resampler>=0.8.3.1->pycaret) (3.0.3)\n",
            "Requirement already satisfied: dash-html-components==2.0.0 in /usr/local/lib/python3.10/dist-packages (from dash>=2.9.0->plotly-resampler>=0.8.3.1->pycaret) (2.0.0)\n",
            "Requirement already satisfied: dash-core-components==2.0.0 in /usr/local/lib/python3.10/dist-packages (from dash>=2.9.0->plotly-resampler>=0.8.3.1->pycaret) (2.0.0)\n",
            "Requirement already satisfied: dash-table==5.0.0 in /usr/local/lib/python3.10/dist-packages (from dash>=2.9.0->plotly-resampler>=0.8.3.1->pycaret) (5.0.0)\n",
            "Requirement already satisfied: typing-extensions>=4.1.1 in /usr/local/lib/python3.10/dist-packages (from dash>=2.9.0->plotly-resampler>=0.8.3.1->pycaret) (4.12.2)\n",
            "Requirement already satisfied: retrying in /usr/local/lib/python3.10/dist-packages (from dash>=2.9.0->plotly-resampler>=0.8.3.1->pycaret) (1.3.4)\n",
            "Requirement already satisfied: nest-asyncio in /usr/local/lib/python3.10/dist-packages (from dash>=2.9.0->plotly-resampler>=0.8.3.1->pycaret) (1.6.0)\n",
            "Requirement already satisfied: jupyter-client in /usr/local/lib/python3.10/dist-packages (from ipykernel>=4.5.1->ipywidgets>=7.6.5->pycaret) (6.1.12)\n",
            "Requirement already satisfied: tornado>=4.2 in /usr/local/lib/python3.10/dist-packages (from ipykernel>=4.5.1->ipywidgets>=7.6.5->pycaret) (6.3.3)\n",
            "Requirement already satisfied: parso<0.9.0,>=0.8.3 in /usr/local/lib/python3.10/dist-packages (from jedi>=0.16->ipython>=5.5.0->pycaret) (0.8.4)\n",
            "Requirement already satisfied: attrs>=22.2.0 in /usr/local/lib/python3.10/dist-packages (from jsonschema>=2.6->nbformat>=4.2.0->pycaret) (23.2.0)\n",
            "Requirement already satisfied: jsonschema-specifications>=2023.03.6 in /usr/local/lib/python3.10/dist-packages (from jsonschema>=2.6->nbformat>=4.2.0->pycaret) (2023.12.1)\n",
            "Requirement already satisfied: referencing>=0.28.4 in /usr/local/lib/python3.10/dist-packages (from jsonschema>=2.6->nbformat>=4.2.0->pycaret) (0.35.1)\n",
            "Requirement already satisfied: rpds-py>=0.7.1 in /usr/local/lib/python3.10/dist-packages (from jsonschema>=2.6->nbformat>=4.2.0->pycaret) (0.18.1)\n",
            "Requirement already satisfied: platformdirs>=2.5 in /usr/local/lib/python3.10/dist-packages (from jupyter-core!=5.0.*,>=4.12->nbformat>=4.2.0->pycaret) (4.2.2)\n",
            "Requirement already satisfied: six in /usr/local/lib/python3.10/dist-packages (from patsy>=0.5.1->category-encoders>=2.4.0->pycaret) (1.16.0)\n",
            "Requirement already satisfied: ptyprocess>=0.5 in /usr/local/lib/python3.10/dist-packages (from pexpect>4.3->ipython>=5.5.0->pycaret) (0.7.0)\n",
            "Requirement already satisfied: wcwidth in /usr/local/lib/python3.10/dist-packages (from prompt-toolkit!=3.0.0,!=3.0.1,<3.1.0,>=2.0.0->ipython>=5.5.0->pycaret) (0.2.13)\n",
            "Requirement already satisfied: notebook>=4.4.1 in /usr/local/lib/python3.10/dist-packages (from widgetsnbextension~=3.6.0->ipywidgets>=7.6.5->pycaret) (6.5.5)\n",
            "Requirement already satisfied: itsdangerous>=2.0 in /usr/local/lib/python3.10/dist-packages (from Flask<3.1,>=1.0.4->dash>=2.9.0->plotly-resampler>=0.8.3.1->pycaret) (2.2.0)\n",
            "Requirement already satisfied: click>=8.0 in /usr/local/lib/python3.10/dist-packages (from Flask<3.1,>=1.0.4->dash>=2.9.0->plotly-resampler>=0.8.3.1->pycaret) (8.1.7)\n",
            "Requirement already satisfied: pyzmq<25,>=17 in /usr/local/lib/python3.10/dist-packages (from notebook>=4.4.1->widgetsnbextension~=3.6.0->ipywidgets>=7.6.5->pycaret) (24.0.1)\n",
            "Requirement already satisfied: argon2-cffi in /usr/local/lib/python3.10/dist-packages (from notebook>=4.4.1->widgetsnbextension~=3.6.0->ipywidgets>=7.6.5->pycaret) (23.1.0)\n",
            "Requirement already satisfied: nbconvert>=5 in /usr/local/lib/python3.10/dist-packages (from notebook>=4.4.1->widgetsnbextension~=3.6.0->ipywidgets>=7.6.5->pycaret) (6.5.4)\n",
            "Requirement already satisfied: Send2Trash>=1.8.0 in /usr/local/lib/python3.10/dist-packages (from notebook>=4.4.1->widgetsnbextension~=3.6.0->ipywidgets>=7.6.5->pycaret) (1.8.3)\n",
            "Requirement already satisfied: terminado>=0.8.3 in /usr/local/lib/python3.10/dist-packages (from notebook>=4.4.1->widgetsnbextension~=3.6.0->ipywidgets>=7.6.5->pycaret) (0.18.1)\n",
            "Requirement already satisfied: prometheus-client in /usr/local/lib/python3.10/dist-packages (from notebook>=4.4.1->widgetsnbextension~=3.6.0->ipywidgets>=7.6.5->pycaret) (0.20.0)\n",
            "Requirement already satisfied: nbclassic>=0.4.7 in /usr/local/lib/python3.10/dist-packages (from notebook>=4.4.1->widgetsnbextension~=3.6.0->ipywidgets>=7.6.5->pycaret) (1.1.0)\n",
            "Requirement already satisfied: notebook-shim>=0.2.3 in /usr/local/lib/python3.10/dist-packages (from nbclassic>=0.4.7->notebook>=4.4.1->widgetsnbextension~=3.6.0->ipywidgets>=7.6.5->pycaret) (0.2.4)\n",
            "Requirement already satisfied: lxml in /usr/local/lib/python3.10/dist-packages (from nbconvert>=5->notebook>=4.4.1->widgetsnbextension~=3.6.0->ipywidgets>=7.6.5->pycaret) (4.9.4)\n",
            "Requirement already satisfied: beautifulsoup4 in /usr/local/lib/python3.10/dist-packages (from nbconvert>=5->notebook>=4.4.1->widgetsnbextension~=3.6.0->ipywidgets>=7.6.5->pycaret) (4.12.3)\n",
            "Requirement already satisfied: bleach in /usr/local/lib/python3.10/dist-packages (from nbconvert>=5->notebook>=4.4.1->widgetsnbextension~=3.6.0->ipywidgets>=7.6.5->pycaret) (6.1.0)\n",
            "Requirement already satisfied: defusedxml in /usr/local/lib/python3.10/dist-packages (from nbconvert>=5->notebook>=4.4.1->widgetsnbextension~=3.6.0->ipywidgets>=7.6.5->pycaret) (0.7.1)\n",
            "Requirement already satisfied: entrypoints>=0.2.2 in /usr/local/lib/python3.10/dist-packages (from nbconvert>=5->notebook>=4.4.1->widgetsnbextension~=3.6.0->ipywidgets>=7.6.5->pycaret) (0.4)\n",
            "Requirement already satisfied: jupyterlab-pygments in /usr/local/lib/python3.10/dist-packages (from nbconvert>=5->notebook>=4.4.1->widgetsnbextension~=3.6.0->ipywidgets>=7.6.5->pycaret) (0.3.0)\n",
            "Requirement already satisfied: mistune<2,>=0.8.1 in /usr/local/lib/python3.10/dist-packages (from nbconvert>=5->notebook>=4.4.1->widgetsnbextension~=3.6.0->ipywidgets>=7.6.5->pycaret) (0.8.4)\n",
            "Requirement already satisfied: nbclient>=0.5.0 in /usr/local/lib/python3.10/dist-packages (from nbconvert>=5->notebook>=4.4.1->widgetsnbextension~=3.6.0->ipywidgets>=7.6.5->pycaret) (0.10.0)\n",
            "Requirement already satisfied: pandocfilters>=1.4.1 in /usr/local/lib/python3.10/dist-packages (from nbconvert>=5->notebook>=4.4.1->widgetsnbextension~=3.6.0->ipywidgets>=7.6.5->pycaret) (1.5.1)\n",
            "Requirement already satisfied: tinycss2 in /usr/local/lib/python3.10/dist-packages (from nbconvert>=5->notebook>=4.4.1->widgetsnbextension~=3.6.0->ipywidgets>=7.6.5->pycaret) (1.3.0)\n",
            "Requirement already satisfied: argon2-cffi-bindings in /usr/local/lib/python3.10/dist-packages (from argon2-cffi->notebook>=4.4.1->widgetsnbextension~=3.6.0->ipywidgets>=7.6.5->pycaret) (21.2.0)\n",
            "Requirement already satisfied: jupyter-server<3,>=1.8 in /usr/local/lib/python3.10/dist-packages (from notebook-shim>=0.2.3->nbclassic>=0.4.7->notebook>=4.4.1->widgetsnbextension~=3.6.0->ipywidgets>=7.6.5->pycaret) (1.24.0)\n",
            "Requirement already satisfied: cffi>=1.0.1 in /usr/local/lib/python3.10/dist-packages (from argon2-cffi-bindings->argon2-cffi->notebook>=4.4.1->widgetsnbextension~=3.6.0->ipywidgets>=7.6.5->pycaret) (1.16.0)\n",
            "Requirement already satisfied: soupsieve>1.2 in /usr/local/lib/python3.10/dist-packages (from beautifulsoup4->nbconvert>=5->notebook>=4.4.1->widgetsnbextension~=3.6.0->ipywidgets>=7.6.5->pycaret) (2.5)\n",
            "Requirement already satisfied: webencodings in /usr/local/lib/python3.10/dist-packages (from bleach->nbconvert>=5->notebook>=4.4.1->widgetsnbextension~=3.6.0->ipywidgets>=7.6.5->pycaret) (0.5.1)\n",
            "Requirement already satisfied: pycparser in /usr/local/lib/python3.10/dist-packages (from cffi>=1.0.1->argon2-cffi-bindings->argon2-cffi->notebook>=4.4.1->widgetsnbextension~=3.6.0->ipywidgets>=7.6.5->pycaret) (2.22)\n",
            "Requirement already satisfied: anyio<4,>=3.1.0 in /usr/local/lib/python3.10/dist-packages (from jupyter-server<3,>=1.8->notebook-shim>=0.2.3->nbclassic>=0.4.7->notebook>=4.4.1->widgetsnbextension~=3.6.0->ipywidgets>=7.6.5->pycaret) (3.7.1)\n",
            "Requirement already satisfied: websocket-client in /usr/local/lib/python3.10/dist-packages (from jupyter-server<3,>=1.8->notebook-shim>=0.2.3->nbclassic>=0.4.7->notebook>=4.4.1->widgetsnbextension~=3.6.0->ipywidgets>=7.6.5->pycaret) (1.8.0)\n",
            "Requirement already satisfied: sniffio>=1.1 in /usr/local/lib/python3.10/dist-packages (from anyio<4,>=3.1.0->jupyter-server<3,>=1.8->notebook-shim>=0.2.3->nbclassic>=0.4.7->notebook>=4.4.1->widgetsnbextension~=3.6.0->ipywidgets>=7.6.5->pycaret) (1.3.1)\n",
            "Requirement already satisfied: exceptiongroup in /usr/local/lib/python3.10/dist-packages (from anyio<4,>=3.1.0->jupyter-server<3,>=1.8->notebook-shim>=0.2.3->nbclassic>=0.4.7->notebook>=4.4.1->widgetsnbextension~=3.6.0->ipywidgets>=7.6.5->pycaret) (1.2.1)\n"
          ]
        }
      ]
    },
    {
      "cell_type": "code",
      "metadata": {
        "id": "7LfnpwSS9nue"
      },
      "source": [
        "#εισαγωγή βιβλιοθηκών - πακέτων\n",
        "import pycaret\n",
        "import pandas as pd\n",
        "import numpy as np\n",
        "import matplotlib.pyplot as plt\n",
        "from pycaret.classification import *"
      ],
      "execution_count": 16,
      "outputs": []
    },
    {
      "cell_type": "code",
      "metadata": {
        "colab": {
          "base_uri": "https://localhost:8080/"
        },
        "id": "ZunbzPVa9a6g",
        "outputId": "521a7be3-4276-43ef-f5c8-0ac71a9e107b"
      },
      "source": [
        "#εισαγωγή του συνόλου δεδομένων\n",
        "url = 'https://raw.githubusercontent.com/kdemertzis/EKPA/main/Data/dga_domain.csv'\n",
        "df = pd.read_csv(url)\n",
        "#έλεγχος σχήματος συνόλου δεδομένων\n",
        "print(df.shape)"
      ],
      "execution_count": 17,
      "outputs": [
        {
          "output_type": "stream",
          "name": "stdout",
          "text": [
            "(117588, 6)\n"
          ]
        }
      ]
    },
    {
      "cell_type": "code",
      "source": [
        "#ανακάτεμα των δεδομένων\n",
        "df = df.sample(frac = 1)\n",
        "print(df.head())"
      ],
      "metadata": {
        "id": "DCynJDtpYx8z",
        "outputId": "f1c88c52-0915-40ee-bdee-bd129f0a78a7",
        "colab": {
          "base_uri": "https://localhost:8080/"
        }
      },
      "execution_count": 18,
      "outputs": [
        {
          "output_type": "stream",
          "name": "stdout",
          "text": [
            "        length   entropy   alexa_grams   word_grams       diff  class\n",
            "107239      15  3.773557     24.926197    30.095002  -5.168805    dga\n",
            "24645        7  2.128085     12.070604    13.736130  -1.665525  legit\n",
            "25600       19  3.576618     68.154831    66.542540   1.612291  legit\n",
            "21490       20  3.484184     80.824854    93.533168 -12.708314  legit\n",
            "61308        7  2.807355     21.116769    23.509682  -2.392914  legit\n"
          ]
        }
      ]
    },
    {
      "cell_type": "code",
      "metadata": {
        "id": "J6y3Zhq2-EZ8"
      },
      "source": [
        "#εγκατάσταση του συνόλου δεδομένων\n",
        "grid = setup(data=df, target=df.columns[-1], html=False, verbose=False)"
      ],
      "execution_count": 5,
      "outputs": []
    },
    {
      "cell_type": "code",
      "metadata": {
        "colab": {
          "base_uri": "https://localhost:8080/"
        },
        "id": "ZGJ7kigzA1Rf",
        "outputId": "bad46f3c-d3c6-428e-b73c-68bf770b068d"
      },
      "source": [
        "#σύγκριση των διαθέσιμων μοντέλων ΜΜ\n",
        "best = compare_models(cross_validation=False, n_select = 1)\n",
        "%load_ext tensorboard"
      ],
      "execution_count": 19,
      "outputs": [
        {
          "output_type": "stream",
          "name": "stderr",
          "text": [
            "                                                           "
          ]
        },
        {
          "output_type": "stream",
          "name": "stdout",
          "text": [
            "                                    Model  Accuracy     AUC  Recall   Prec.  \\\n",
            "lightgbm  Light Gradient Boosting Machine    0.8881  0.9098  0.8881  0.8887   \n",
            "gbc          Gradient Boosting Classifier    0.8874  0.9078  0.8874  0.8880   \n",
            "xgboost         Extreme Gradient Boosting    0.8869  0.9082  0.8869  0.8866   \n",
            "rf               Random Forest Classifier    0.8797  0.8914  0.8797  0.8757   \n",
            "lr                    Logistic Regression    0.8748  0.8765  0.8748  0.8732   \n",
            "knn                K Neighbors Classifier    0.8732  0.8650  0.8732  0.8681   \n",
            "et                 Extra Trees Classifier    0.8698  0.8835  0.8698  0.8642   \n",
            "svm                   SVM - Linear Kernel    0.8678  0.0000  0.8678  0.8709   \n",
            "qda       Quadratic Discriminant Analysis    0.8671  0.8800  0.8671  0.8719   \n",
            "lda          Linear Discriminant Analysis    0.8501  0.8590  0.8501  0.8539   \n",
            "ridge                    Ridge Classifier    0.8316  0.0000  0.8316  0.8459   \n",
            "dt               Decision Tree Classifier    0.8253  0.7873  0.8253  0.8277   \n",
            "ada                  Ada Boost Classifier    0.7674  0.5769  0.7674  0.6466   \n",
            "nb                            Naive Bayes    0.7642  0.7751  0.7642  0.7369   \n",
            "dummy                    Dummy Classifier    0.7342  0.0000  0.7342  0.5391   \n",
            "\n",
            "              F1   Kappa     MCC  TT (Sec)  \n",
            "lightgbm  0.8792  0.6961  0.7136      1.49  \n",
            "gbc       0.8781  0.6935  0.7118     64.39  \n",
            "xgboost   0.8784  0.6943  0.7103      2.20  \n",
            "rf        0.8727  0.6809  0.6906     24.91  \n",
            "lr        0.8658  0.6616  0.6769      8.16  \n",
            "knn       0.8664  0.6657  0.6738      0.18  \n",
            "et        0.8643  0.6610  0.6662      6.75  \n",
            "svm       0.8546  0.6310  0.6578      4.27  \n",
            "qda       0.8561  0.6432  0.6606      0.07  \n",
            "lda       0.8375  0.5781  0.6043      0.07  \n",
            "ridge     0.7983  0.4772  0.5416      0.06  \n",
            "dt        0.8264  0.5758  0.5759      1.55  \n",
            "ada       0.6740  0.2232  0.3365      5.65  \n",
            "nb        0.7421  0.3626  0.3732      0.06  \n",
            "dummy     0.6217  0.0000  0.0000      0.05  \n",
            "The tensorboard extension is already loaded. To reload it, use:\n",
            "  %reload_ext tensorboard\n"
          ]
        },
        {
          "output_type": "stream",
          "name": "stderr",
          "text": [
            "\r"
          ]
        }
      ]
    },
    {
      "cell_type": "code",
      "metadata": {
        "colab": {
          "base_uri": "https://localhost:8080/"
        },
        "id": "TorFLtNx-kCm",
        "outputId": "020fe383-dba9-471b-8268-4fd20f8e399a"
      },
      "source": [
        "#αναφορά των υπερπαραμέτρων του μοντέλου με την υψηλότερη απόδοση\n",
        "print(best)"
      ],
      "execution_count": 20,
      "outputs": [
        {
          "output_type": "stream",
          "name": "stdout",
          "text": [
            "LGBMClassifier(boosting_type='gbdt', class_weight=None, colsample_bytree=1.0,\n",
            "               importance_type='split', learning_rate=0.1, max_depth=-1,\n",
            "               min_child_samples=20, min_child_weight=0.001, min_split_gain=0.0,\n",
            "               n_estimators=100, n_jobs=-1, num_leaves=31, objective=None,\n",
            "               random_state=2243, reg_alpha=0.0, reg_lambda=0.0, subsample=1.0,\n",
            "               subsample_for_bin=200000, subsample_freq=0)\n"
          ]
        }
      ]
    },
    {
      "cell_type": "code",
      "metadata": {
        "id": "XJTnGY38yxrE",
        "outputId": "18036b51-af59-4545-b995-43df870e2b80",
        "colab": {
          "base_uri": "https://localhost:8080/",
          "height": 685,
          "referenced_widgets": [
            "d7d1fd21a6174aa8a64dde3205d2d55c",
            "a932bc46dfd14585845ea85ea839c079",
            "26f2b1081747404db8831b9b0b9a3597",
            "19b947fbc54e4f4cb560137828e546a8",
            "750c517740c74a719442039e2456cf2f",
            "7240533ab6b944fa95cdc9329ef018dd",
            "d526ac5eda434e33b77d55c3b0f7946b"
          ]
        }
      },
      "source": [
        "#μέτρα αξιολόγησης του μοντέλου με την υψηλότερη απόδοση\n",
        "evaluate_model(best)"
      ],
      "execution_count": 22,
      "outputs": [
        {
          "output_type": "display_data",
          "data": {
            "text/plain": [
              "interactive(children=(ToggleButtons(description='Plot Type:', icons=('',), options=(('Pipeline Plot', 'pipelin…"
            ],
            "application/vnd.jupyter.widget-view+json": {
              "version_major": 2,
              "version_minor": 0,
              "model_id": "d7d1fd21a6174aa8a64dde3205d2d55c"
            }
          },
          "metadata": {
            "application/vnd.jupyter.widget-view+json": {
              "colab": {
                "custom_widget_manager": {
                  "url": "https://ssl.gstatic.com/colaboratory-static/widgets/colab-cdn-widget-manager/2b70e893a8ba7c0f/manager.min.js"
                }
              }
            }
          }
        }
      ]
    }
  ]
}